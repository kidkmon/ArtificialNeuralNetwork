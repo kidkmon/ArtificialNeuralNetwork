{
 "cells": [
  {
   "cell_type": "code",
   "execution_count": 1,
   "metadata": {},
   "outputs": [],
   "source": [
    "import numpy as np\n",
    "import pandas as pd\n",
    "from sklearn.datasets import load_iris\n",
    "from sklearn.model_selection import train_test_split\n",
    "from sklearn.neural_network import MLPClassifier\n",
    "from sklearn.metrics import accuracy_score,f1_score, confusion_matrix\n",
    "import matplotlib.pyplot as plt\n",
    "%matplotlib inline"
   ]
  },
  {
   "cell_type": "markdown",
   "metadata": {},
   "source": [
    "#### Obtenha o dataset do repositório da Universidade de California em Irvine"
   ]
  },
  {
   "cell_type": "code",
   "execution_count": 2,
   "metadata": {},
   "outputs": [],
   "source": [
    "iris = load_iris()\n",
    "iris_dataset = pd.DataFrame(data= np.c_[iris['data'], iris['target']],columns= iris['feature_names'] + ['target'])\n",
    "X = iris_dataset.drop('target', axis=1)\n",
    "Y = iris_dataset['target']"
   ]
  },
  {
   "cell_type": "markdown",
   "metadata": {},
   "source": [
    "#### Efetue a partição do tipo Holdout 80/20 do dataset"
   ]
  },
  {
   "cell_type": "code",
   "execution_count": 3,
   "metadata": {},
   "outputs": [],
   "source": [
    "X_train, X_test, Y_train, Y_test = train_test_split(X, Y, test_size=0.2)"
   ]
  },
  {
   "cell_type": "markdown",
   "metadata": {},
   "source": [
    "#### Utilize o Sci-kit Learn e proponha seis Redes Neurais Artificiais distintas para este problema"
   ]
  },
  {
   "cell_type": "code",
   "execution_count": 4,
   "metadata": {},
   "outputs": [],
   "source": [
    "neural_nets = []\n",
    "for i in range(3):\n",
    "    neural_nets.append(MLPClassifier(hidden_layer_sizes=(1,), learning_rate_init=0.002, batch_size=1,\\\n",
    "                       activation='logistic',max_iter=50))\n",
    "for i in range(3):\n",
    "    neural_nets.append(MLPClassifier(hidden_layer_sizes=(2,), learning_rate_init=0.0015, batch_size=1,\\\n",
    "                       activation='relu',max_iter=50))"
   ]
  },
  {
   "cell_type": "markdown",
   "metadata": {},
   "source": [
    "#### Treine as redes propostas com os dados de treinamento"
   ]
  },
  {
   "cell_type": "code",
   "execution_count": 5,
   "metadata": {},
   "outputs": [
    {
     "name": "stderr",
     "output_type": "stream",
     "text": [
      "C:\\Users\\Ocean\\Anaconda2\\envs\\py36\\lib\\site-packages\\sklearn\\neural_network\\multilayer_perceptron.py:564: ConvergenceWarning: Stochastic Optimizer: Maximum iterations (50) reached and the optimization hasn't converged yet.\n",
      "  % self.max_iter, ConvergenceWarning)\n"
     ]
    }
   ],
   "source": [
    "for neural_net in neural_nets:\n",
    "    neural_net.fit(X_train, Y_train)"
   ]
  },
  {
   "cell_type": "markdown",
   "metadata": {},
   "source": [
    "#### Teste as redes e obtenha a acurácia e o F1-Score para os dados de teste"
   ]
  },
  {
   "cell_type": "code",
   "execution_count": 12,
   "metadata": {},
   "outputs": [
    {
     "name": "stdout",
     "output_type": "stream",
     "text": [
      "Rede Neural 1\n",
      "Acurácia: 0.8\n",
      "F1-Score: 0.8000000000000002\n",
      "\n",
      "Rede Neural 2\n",
      "Acurácia: 0.8666666666666667\n",
      "F1-Score: 0.8666666666666667\n",
      "\n",
      "Rede Neural 3\n",
      "Acurácia: 0.7333333333333333\n",
      "F1-Score: 0.7333333333333333\n",
      "\n",
      "Rede Neural 4\n",
      "Acurácia: 0.9\n",
      "F1-Score: 0.9\n",
      "\n",
      "Rede Neural 5\n",
      "Acurácia: 0.3333333333333333\n",
      "F1-Score: 0.3333333333333333\n",
      "\n",
      "Rede Neural 6\n",
      "Acurácia: 0.9333333333333333\n",
      "F1-Score: 0.9333333333333333\n",
      "\n"
     ]
    }
   ],
   "source": [
    "cont, y_preds = 1, []\n",
    "\n",
    "for neural_net in neural_nets:\n",
    "    y_pred = neural_net.predict(X_test)\n",
    "    print(\"Rede Neural {}\\nAcurácia: {}\\nF1-Score: {}\\n\".format(cont,accuracy_score(Y_test, y_pred),f1_score(Y_test,y_pred,\\\n",
    "                                                                                                          average='micro')))\n",
    "    y_preds.append(y_pred)\n",
    "    cont += 1"
   ]
  },
  {
   "cell_type": "markdown",
   "metadata": {},
   "source": [
    "#### A partir do F1-Score, elenque a melhor rede para o problema e imprima sua matriz de confusão"
   ]
  },
  {
   "cell_type": "code",
   "execution_count": 13,
   "metadata": {},
   "outputs": [
    {
     "name": "stdout",
     "output_type": "stream",
     "text": [
      "Melhor Rede Neural para o problema: 6\n",
      "F1-score: 0.9333333333333333\n"
     ]
    }
   ],
   "source": [
    "highest_f1_score = {'neural-net': 0, 'f1-score': f1_score(Y_test, y_preds[0], average='micro')}\n",
    "\n",
    "for i,y_pred in enumerate(y_preds):\n",
    "    if (f1_score(Y_test, y_pred, average='micro') > highest_f1_score['f1-score']):\n",
    "        highest_f1_score['neural-net'] = i\n",
    "        highest_f1_score['f1-score'] = f1_score(Y_test, y_pred, average='micro')\n",
    "\n",
    "print('Melhor Rede Neural para o problema: {}\\nF1-score: {}'.format(highest_f1_score['neural-net'] + 1,\\\n",
    "                                                                    highest_f1_score['f1-score']))"
   ]
  },
  {
   "cell_type": "markdown",
   "metadata": {},
   "source": [
    "#### Matriz de confusão para os dados de teste"
   ]
  },
  {
   "cell_type": "code",
   "execution_count": 8,
   "metadata": {},
   "outputs": [
    {
     "data": {
      "text/plain": [
       "array([[10,  0,  0],\n",
       "       [ 0,  9,  1],\n",
       "       [ 0,  1,  9]], dtype=int64)"
      ]
     },
     "execution_count": 8,
     "metadata": {},
     "output_type": "execute_result"
    }
   ],
   "source": [
    "confusion_matrix(Y_test, y_preds[highest_f1_score['neural-net']])"
   ]
  },
  {
   "cell_type": "markdown",
   "metadata": {},
   "source": [
    "#### Com os dados de F1-Score de todas as Redes Neurais treinadas e testadas, responda:"
   ]
  },
  {
   "cell_type": "code",
   "execution_count": 16,
   "metadata": {},
   "outputs": [
    {
     "data": {
      "image/png": "[encoded data removed]",
      "text/plain": [
       "<Figure size 432x288 with 1 Axes>"
      ]
     },
     "metadata": {},
     "output_type": "display_data"
    }
   ],
   "source": [
    "f1_scores = [f1_score(Y_test, y_pred, average='micro') for y_pred in y_preds]\n",
    "\n",
    "for i, f1 in enumerate(f1_scores):\n",
    "    plt.plot(i, f1, marker='o', ms=10, label='Rede Neural {}'.format(i+1))\n",
    "plt.xlabel('Redes Neurais')\n",
    "plt.ylabel('F1-Scores')\n",
    "plt.legend()\n",
    "plt.show()"
   ]
  },
  {
   "cell_type": "markdown",
   "metadata": {},
   "source": [
    "#### O desempenho das diferentes RNAs neste problema foi homogêneo ou heterogênero?"
   ]
  },
  {
   "cell_type": "markdown",
   "metadata": {},
   "source": [
    "O desempenho nas diferentes RNAs foram heterogênero, pois de acordo com o gráfico, pode-se notar que as posições de cada círculo estão em diferentes posições e valores quando comparadas ao F1-Score."
   ]
  },
  {
   "cell_type": "markdown",
   "metadata": {},
   "source": [
    "#### A RNA com mais neurônios ocultos é essencialmente a melhor?"
   ]
  },
  {
   "cell_type": "markdown",
   "metadata": {},
   "source": [
    "Não necessariamente, pois pode variar com os valores aleatórios, então em um momento pode ser melhor em outros não, por exemplo o pior F1-Score das RNAs, foi uma RNA com dois neurônios ocultos."
   ]
  },
  {
   "cell_type": "markdown",
   "metadata": {},
   "source": [
    "#### As RNAs com uma única camada oculta tiveram F1-Score médio, igual ou superior ao das redes com duas camadas ocultas? Isso ocorre em todo problema?"
   ]
  },
  {
   "cell_type": "markdown",
   "metadata": {},
   "source": [
    "As RNAs com uma única camada oculta tiveram F1-Score médio comparada com as RNAs com duas camadas ocultas, nessa situação. Ao fazer uma outra partição e treina-las e testa-las novamente, pode ser que fique igual, superior ou médio comparada as RNAs com duas camadas ocultas."
   ]
  }
 ],
 "metadata": {
  "kernelspec": {
   "display_name": "Python 3",
   "language": "python",
   "name": "python3"
  },
  "language_info": {
   "codemirror_mode": {
    "name": "ipython",
    "version": 3
   },
   "file_extension": ".py",
   "mimetype": "text/x-python",
   "name": "python",
   "nbconvert_exporter": "python",
   "pygments_lexer": "ipython3",
   "version": "3.6.5"
  }
 },
 "nbformat": 4,
 "nbformat_minor": 2
}
