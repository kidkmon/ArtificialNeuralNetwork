{
 "cells": [
  {
   "cell_type": "markdown",
   "metadata": {},
   "source": [
    "# Teste 3 - 11/09/2018\n",
    "\n",
    "## Disponibilização: 26/09/2018 - 11h\n",
    "## Encerramento: 02/10/2018 - 18h\n",
    "\n",
    "O objetivo deste terceiro projeto prático da disciplina Redes Neurais Artificias é produzir um Jupyter notebook para praticar o aprendizado de neurônios perceptron.\n",
    "\n",
    "Esta tarefa é dividida em to-dos, isto é, pequenas atividades que devem ser cumpridas para que o objetivo geral seja alcançado. A cada to-do está associada uma célula do Jupyter Notebook, que deve ser preenchida com código Python atendendo ao que se pede.\n",
    "\n",
    "- Kid Mendes de Oliveira Neto - 1615310011\n",
    "- Wilson Calixto Cordovil Junior - 1515310026"
   ]
  },
  {
   "cell_type": "code",
   "execution_count": 9,
   "metadata": {},
   "outputs": [],
   "source": [
    "import random\n",
    "import numpy as np\n",
    "import matplotlib.pyplot as plt\n",
    "%matplotlib inline"
   ]
  },
  {
   "cell_type": "markdown",
   "metadata": {},
   "source": [
    "### To-Do 1\n",
    "\n",
    "#### Conjunto de Treinamento\n",
    "1. o conjunto de treinamento é composto pelos atributos preditores x1 e x2 e atributo alvo y."
   ]
  },
  {
   "cell_type": "code",
   "execution_count": 43,
   "metadata": {},
   "outputs": [],
   "source": [
    "X = [[-1,0,0],[-1,0,1],[-1,1,0],[-1,1,1]]\n",
    "\n",
    "for i in range (len (X)):\n",
    "    X[i] = np.asarray(X[i])\n",
    "\n",
    "Y = [1,1,1,0]"
   ]
  },
  {
   "cell_type": "markdown",
   "metadata": {},
   "source": [
    "### To-Do 2\n",
    "\n",
    "#### Neurônio Perceptron\n",
    "\n",
    "Implemente o aprendizado de um neurônio perceptron para o conjunto de treinamento X e rótulos Y relativos à função NAND. Seu algoritmo deve ilustrar claramente:\n",
    "\n",
    "1. O vetor de pesos a cada época;\n",
    "2. A quantidade de exemplos corretos e errados a cada época;\n",
    "3. A quantidade de épocas até a convergência;\n",
    "4. A quantidade de vezes em que houve ajuste no vetor de pesos."
   ]
  },
  {
   "cell_type": "code",
   "execution_count": 56,
   "metadata": {},
   "outputs": [],
   "source": [
    "class Perceptron:\n",
    "    \n",
    "    def __init__(self, X, Y, n=0.1):\n",
    "        self.X = X\n",
    "        self.Y = Y\n",
    "        self.n = n\n",
    "        self.n_attributes = len(X[0])\n",
    "        self.W = []\n",
    "    \n",
    "    def train(self):\n",
    "        \n",
    "        n_seasons = 0\n",
    "        n_weights_changed = 0\n",
    "        \n",
    "        for i in range(self.n_attributes):\n",
    "            self.W.append(random.uniform(-0.5,0.5))\n",
    "        \n",
    "        print(\"Época: {}\\nVetor de pesos: {}\\n\".format(n_seasons, self.W))\n",
    "        \n",
    "        while True:\n",
    "            error = False\n",
    "            right_answer = 0\n",
    "            wrong_answer = 0\n",
    "            \n",
    "            for i in range(len(self.X)):\n",
    "                u = 0\n",
    "                \n",
    "                for j in range(self.n_attributes):\n",
    "                    u += self.X[i][j] * self.W[j]\n",
    "                    \n",
    "                y = 1 if u >= 0 else 0\n",
    "                \n",
    "                if(y != self.Y[i]):\n",
    "                    error_aux = self.Y[i] - y\n",
    "                    for j in range(self.n_attributes):\n",
    "                        self.W[j] = self.W[j] + self.n*error_aux*self.X[i][j]\n",
    "                        \n",
    "                    error = True\n",
    "                    wrong_answer += 1\n",
    "                    n_weights_changed += 1\n",
    "                else:\n",
    "                    right_answer += 1\n",
    "            \n",
    "            n_seasons += 1\n",
    "            print(\"Época: {}\\nVetor de pesos: {}\".format(n_seasons, self.W))\n",
    "            print(\"Quantidade de exemplos corretos: {}\\nQuantidade de exemplos errados: {}\\n\".format(right_answer, wrong_answer))\n",
    "            \n",
    "            if(not error):\n",
    "                print(\"\\nConvergência alcançada!\")\n",
    "                print(\"Vetor de pesos: {}\\nQuantidade de épocas: {}\\nQuantidade de vezes que houve ajuste no vetor de pesos: {}\".format(self.W, n_seasons, n_weights_changed))\n",
    "                break"
   ]
  },
  {
   "cell_type": "code",
   "execution_count": 63,
   "metadata": {},
   "outputs": [
    {
     "name": "stdout",
     "output_type": "stream",
     "text": [
      "Época: 0\n",
      "Vetor de pesos: [-0.20902570509829566, -0.018958089609365514, 0.3852472592860561]\n",
      "\n",
      "Época: 1\n",
      "Vetor de pesos: [-0.10902570509829565, -0.11895808960936552, 0.2852472592860561]\n",
      "Quantidade de exemplos corretos: 3\n",
      "Quantidade de exemplos errados: 1\n",
      "\n",
      "Época: 2\n",
      "Vetor de pesos: [-0.10902570509829565, -0.11895808960936552, 0.1852472592860561]\n",
      "Quantidade de exemplos corretos: 2\n",
      "Quantidade de exemplos errados: 2\n",
      "\n",
      "Época: 3\n",
      "Vetor de pesos: [-0.10902570509829565, -0.11895808960936552, 0.08524725928605609]\n",
      "Quantidade de exemplos corretos: 2\n",
      "Quantidade de exemplos errados: 2\n",
      "\n",
      "Época: 4\n",
      "Vetor de pesos: [-0.10902570509829565, -0.11895808960936552, -0.014752740713943918]\n",
      "Quantidade de exemplos corretos: 2\n",
      "Quantidade de exemplos errados: 2\n",
      "\n",
      "Época: 5\n",
      "Vetor de pesos: [-0.10902570509829565, -0.11895808960936552, -0.11475274071394392]\n",
      "Quantidade de exemplos corretos: 2\n",
      "Quantidade de exemplos errados: 2\n",
      "\n",
      "Época: 6\n",
      "Vetor de pesos: [-0.10902570509829565, -0.21895808960936552, -0.11475274071394392]\n",
      "Quantidade de exemplos corretos: 2\n",
      "Quantidade de exemplos errados: 2\n",
      "\n",
      "Época: 7\n",
      "Vetor de pesos: [-0.20902570509829563, -0.21895808960936552, -0.11475274071394392]\n",
      "Quantidade de exemplos corretos: 1\n",
      "Quantidade de exemplos errados: 3\n",
      "\n",
      "Época: 8\n",
      "Vetor de pesos: [-0.20902570509829563, -0.21895808960936552, -0.21475274071394393]\n",
      "Quantidade de exemplos corretos: 2\n",
      "Quantidade de exemplos errados: 2\n",
      "\n",
      "Época: 9\n",
      "Vetor de pesos: [-0.30902570509829563, -0.21895808960936552, -0.11475274071394392]\n",
      "Quantidade de exemplos corretos: 3\n",
      "Quantidade de exemplos errados: 1\n",
      "\n",
      "Época: 10\n",
      "Vetor de pesos: [-0.30902570509829563, -0.21895808960936552, -0.11475274071394392]\n",
      "Quantidade de exemplos corretos: 4\n",
      "Quantidade de exemplos errados: 0\n",
      "\n",
      "\n",
      "Convergência alcançada!\n",
      "Vetor de pesos: [-0.30902570509829563, -0.21895808960936552, -0.11475274071394392]\n",
      "Quantidade de épocas: 10\n",
      "Quantidade de vezes que houve ajuste no vetor de pesos: 17\n"
     ]
    }
   ],
   "source": [
    "perceptron = Perceptron(X,Y)\n",
    "perceptron.train()"
   ]
  },
  {
   "cell_type": "markdown",
   "metadata": {},
   "source": [
    "### To-Do 3\n",
    "\n",
    "#### Visualizando a Fronteira de Decisão\n",
    "\n",
    "Após o processo de aprendizado, tem-se que o neurônio aprendeu os valores corretos do\n",
    "vetor de pesos capaz de separar adequadamente as classes deste exemplo. Para visualizar\n",
    "a fronteira de decisão a partir deste vetor de 3 pesos, construa uma reta da seguinte forma:\n",
    "\n",
    "            y = W[0]/W[2] − (W[1]/W[2]) ∗ x,\n",
    "            \n",
    "em que os pesos identificados são utilizados para obter a forma canônica da reta característica\n",
    "da fronteira de decisão. Denote as classes em cores distintas, para facilitar a\n",
    "visualização dos resultados. "
   ]
  },
  {
   "cell_type": "code",
   "execution_count": 67,
   "metadata": {},
   "outputs": [
    {
     "data": {
      "image/png": "[encoded data removed]",
      "text/plain": [
       "<Figure size 432x288 with 1 Axes>"
      ]
     },
     "metadata": {},
     "output_type": "display_data"
    }
   ],
   "source": [
    "for i in range(len(X)):\n",
    "    plt.plot(X[i][1], X[i][2], 'ro' if(Y[i] == 1) else 'bo')\n",
    "    plt.plot(X[i], W[0]/W[2] - (W[1]/W[2])*X[i])\n",
    "\n",
    "plt.title('Visualização dos resultados')\n",
    "plt.xlabel('Coordenada x1')\n",
    "plt.ylabel('Coordenada x2')\n",
    "plt.show()"
   ]
  },
  {
   "cell_type": "markdown",
   "metadata": {},
   "source": [
    "### To-Do 4\n",
    "\n",
    "#### Funções de Ativação\n",
    "\n",
    "Para complementar o entendimento para as próximas etapas da disciplina, apresente também gráficos para as seguintes funções de ativação, considerando o intervalo [−1.5, 1.5]:\n",
    "\n",
    "1. Degrau (com θ = 0.5);\n",
    "2. Sigmoidal, com 3 valores distintos de suavidade e centro da curva no valor 0;\n",
    "3. Tangente Hiperbólica;\n",
    "4. ReLU."
   ]
  },
  {
   "cell_type": "code",
   "execution_count": 79,
   "metadata": {},
   "outputs": [
    {
     "data": {
      "image/png": "[encoded data removed]",
      "text/plain": [
       "<Figure size 432x288 with 1 Axes>"
      ]
     },
     "metadata": {},
     "output_type": "display_data"
    }
   ],
   "source": [
    "def step_value(num):\n",
    "    return 1 if num >= 0.5 else 0\n",
    "\n",
    "X = np.linspace(-1.5,1.5, 30)\n",
    "Y = [step_value(x) for x in X]\n",
    "\n",
    "plt.title('Degrau')\n",
    "plt.plot(X, Y)\n",
    "plt.show()"
   ]
  },
  {
   "cell_type": "code",
   "execution_count": 80,
   "metadata": {},
   "outputs": [
    {
     "data": {
      "image/png": "[encoded data removed]",
      "text/plain": [
       "<Figure size 432x288 with 1 Axes>"
      ]
     },
     "metadata": {},
     "output_type": "display_data"
    }
   ],
   "source": [
    "def sigmoid_value(num):\n",
    "    return (1 /(1 + np.exp(-num)))\n",
    "\n",
    "Y = [sigmoid_value(x*3) for x in X]\n",
    "\n",
    "plt.title('Sigmoidal')\n",
    "plt.plot(X, Y)\n",
    "plt.show()"
   ]
  },
  {
   "cell_type": "code",
   "execution_count": 81,
   "metadata": {},
   "outputs": [
    {
     "data": {
      "image/png": "[encoded data removed]",
      "text/plain": [
       "<Figure size 432x288 with 1 Axes>"
      ]
     },
     "metadata": {},
     "output_type": "display_data"
    }
   ],
   "source": [
    "Y = [np.tanh(x) for x in X]\n",
    "\n",
    "plt.title('Tangente Hiperbólica')\n",
    "plt.plot(X, Y)\n",
    "plt.show()"
   ]
  },
  {
   "cell_type": "code",
   "execution_count": 84,
   "metadata": {},
   "outputs": [
    {
     "data": {
      "image/png": "[encoded data removed]",
      "text/plain": [
       "<Figure size 432x288 with 1 Axes>"
      ]
     },
     "metadata": {},
     "output_type": "display_data"
    }
   ],
   "source": [
    "Y = np.maximum(X, 0)\n",
    "\n",
    "plt.title('ReLU')\n",
    "plt.plot(X, Y)\n",
    "plt.show()"
   ]
  }
 ],
 "metadata": {
  "kernelspec": {
   "display_name": "Python 3",
   "language": "python",
   "name": "python3"
  },
  "language_info": {
   "codemirror_mode": {
    "name": "ipython",
    "version": 3
   },
   "file_extension": ".py",
   "mimetype": "text/x-python",
   "name": "python",
   "nbconvert_exporter": "python",
   "pygments_lexer": "ipython3",
   "version": "3.6.5"
  }
 },
 "nbformat": 4,
 "nbformat_minor": 2
}
