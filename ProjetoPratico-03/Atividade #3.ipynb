{
 "cells": [
  {
   "cell_type": "markdown",
   "metadata": {},
   "source": [
    "# Teste 3 - 11/09/2018\n",
    "\n",
    "## Disponibilização: 26/09/2018 - 11h\n",
    "## Encerramento: 02/10/2018 - 18h\n",
    "\n",
    "O objetivo deste terceiro projeto prático da disciplina Redes Neurais Artificias é produzir um Jupyter notebook para praticar o aprendizado de neurônios perceptron.\n",
    "\n",
    "Esta tarefa é dividida em to-dos, isto é, pequenas atividades que devem ser cumpridas para que o objetivo geral seja alcançado. A cada to-do está associada uma célula do Jupyter Notebook, que deve ser preenchida com código Python atendendo ao que se pede.\n",
    "\n",
    "- Kid Mendes de Oliveira Neto - 1615310011\n",
    "- Wilson Calixto Cordovil Junior - 1515310026"
   ]
  },
  {
   "cell_type": "code",
   "execution_count": 2,
   "metadata": {},
   "outputs": [],
   "source": [
    "#Imports"
   ]
  },
  {
   "cell_type": "markdown",
   "metadata": {},
   "source": [
    "### To-Do 1\n",
    "\n",
    "#### Conjunto de Treinamento\n",
    "1. o conjunto de treinamento é composto pelos atributos preditores x1 e x2 e atributo alvo y."
   ]
  },
  {
   "cell_type": "code",
   "execution_count": null,
   "metadata": {},
   "outputs": [],
   "source": []
  },
  {
   "cell_type": "markdown",
   "metadata": {},
   "source": [
    "### To-Do 2\n",
    "\n",
    "#### Neurônio Perceptron\n",
    "\n",
    "Implemente o aprendizado de um neurônio perceptron para o conjunto de treinamento X e rótulos Y relativos à função NAND. Seu algoritmo deve ilustrar claramente:\n",
    "\n",
    "1. O vetor de pesos a cada época;\n",
    "2. A quantidade de exemplos corretos e errados a cada época;\n",
    "3. A quantidade de épocas até a convergência;\n",
    "4. A quantidade de vezes em que houve ajuste no vetor de pesos."
   ]
  },
  {
   "cell_type": "code",
   "execution_count": null,
   "metadata": {},
   "outputs": [],
   "source": []
  },
  {
   "cell_type": "markdown",
   "metadata": {},
   "source": [
    "### To-Do 3\n",
    "\n",
    "#### Visualizando a Fronteira de Decisão\n",
    "\n",
    "Após o processo de aprendizado, tem-se que o neurônio aprendeu os valores corretos do\n",
    "vetor de pesos capaz de separar adequadamente as classes deste exemplo. Para visualizar\n",
    "a fronteira de decisão a partir deste vetor de 3 pesos, construa uma reta da seguinte forma:\n",
    "\n",
    "            y = W[0]/W[2] − (W[1]/W[2]) ∗ x,\n",
    "            \n",
    "em que os pesos identificados são utilizados para obter a forma canônica da reta característica\n",
    "da fronteira de decisão. Denote as classes em cores distintas, para facilitar a\n",
    "visualização dos resultados. "
   ]
  },
  {
   "cell_type": "code",
   "execution_count": null,
   "metadata": {},
   "outputs": [],
   "source": []
  },
  {
   "cell_type": "markdown",
   "metadata": {},
   "source": [
    "### To-Do 4\n",
    "\n",
    "#### Funções de Ativação\n",
    "\n",
    "Para complementar o entendimento para as próximas etapas da disciplina, apresente também gráficos para as seguintes funções de ativação, considerando o intervalo [−1.5, 1.5]:\n",
    "\n",
    "1. Degrau (com θ = 0.5);\n",
    "2. Sigmoidal, com 3 valores distintos de suavidade e centro da curva no valor 0;\n",
    "3. Tangente Hiperbólica;\n",
    "4. ReLU."
   ]
  },
  {
   "cell_type": "code",
   "execution_count": null,
   "metadata": {},
   "outputs": [],
   "source": []
  }
 ],
 "metadata": {
  "kernelspec": {
   "display_name": "Python 3",
   "language": "python",
   "name": "python3"
  },
  "language_info": {
   "codemirror_mode": {
    "name": "ipython",
    "version": 3
   },
   "file_extension": ".py",
   "mimetype": "text/x-python",
   "name": "python",
   "nbconvert_exporter": "python",
   "pygments_lexer": "ipython3",
   "version": "3.6.5"
  }
 },
 "nbformat": 4,
 "nbformat_minor": 2
}
